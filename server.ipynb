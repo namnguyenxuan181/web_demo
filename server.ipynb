{
 "cells": [
  {
   "cell_type": "code",
   "execution_count": 1,
   "metadata": {},
   "outputs": [],
   "source": [
    "import pandas as pd\n",
    "import os\n",
    "import numpy as np\n",
    "import json\n",
    "from product_matching.product_matching import ProductMatching\n",
    "import logging"
   ]
  },
  {
   "cell_type": "markdown",
   "metadata": {},
   "source": [
    "## Load data from hdfs"
   ]
  },
  {
   "cell_type": "code",
   "execution_count": 4,
   "metadata": {},
   "outputs": [
    {
     "name": "stderr",
     "output_type": "stream",
     "text": [
      "/usr/local/lib/python3.6/dist-packages/IPython/core/interactiveshell.py:3044: DtypeWarning: Columns (27) have mixed types. Specify dtype option on import or set low_memory=False.\n",
      "  interactivity=interactivity, compiler=compiler, result=result)\n"
     ]
    }
   ],
   "source": [
    "products=pd.read_csv('assets/pv_products.tsv',sep='\\t')"
   ]
  },
  {
   "cell_type": "markdown",
   "metadata": {},
   "source": [
    "## Load model and make predict"
   ]
  },
  {
   "cell_type": "code",
   "execution_count": 5,
   "metadata": {},
   "outputs": [
    {
     "name": "stdout",
     "output_type": "stream",
     "text": [
      "Load model from /home/bach/ml_workspace/demo/data/best_model\n",
      "config:\n",
      "{\n",
      "  \"model\": \"triplet-charword\",\n",
      "  \"save_dir\": \"saved_dir_rank\",\n",
      "  \"seed\": 0,\n",
      "  \"batch_size\": 256,\n",
      "  \"count_backward\": 1,\n",
      "  \"epoch\": 30,\n",
      "  \"data_kind\": 0,\n",
      "  \"char_embedding_dim\": 100,\n",
      "  \"lstm_hidden_size\": 100,\n",
      "  \"lstm_num_layers\": 1,\n",
      "  \"attention_size\": 64,\n",
      "  \"attention_hops\": 10,\n",
      "  \"fc_size\": 128,\n",
      "  \"drop_out\": 0.0,\n",
      "  \"triplet_norm_p\": 1.0,\n",
      "  \"triplet_margin\": 1.0,\n",
      "  \"norm_e\": false,\n",
      "  \"penalty_ratio\": null,\n",
      "  \"optim\": \"adam\",\n",
      "  \"run_test\": false\n",
      "}\n",
      "args {'model': 'triplet-charword', 'save_dir': 'saved_dir_rank', 'seed': 0, 'batch_size': 256, 'count_backward': 1, 'epoch': 30, 'data_kind': 0, 'char_embedding_dim': 100, 'lstm_hidden_size': 100, 'lstm_num_layers': 1, 'attention_size': 64, 'attention_hops': 10, 'fc_size': 128, 'drop_out': 0.0, 'triplet_norm_p': 1.0, 'triplet_margin': 1.0, 'norm_e': False, 'penalty_ratio': None, 'optim': 'adam', 'run_test': False}\n",
      "norm_p = 1.0\n",
      "norm_e = False\n",
      "loss:0.043231\n",
      "top 2 saved_models ['epoch:0006_acc:0.000000_loss:0.043231.pth']\n",
      "state_dict.keys odict_keys(['basemodel.char_embeddings.embeddings.weight', 'basemodel.word_level.lstm_layer.lstm.weight_ih_l0', 'basemodel.word_level.lstm_layer.lstm.weight_hh_l0', 'basemodel.word_level.lstm_layer.lstm.bias_ih_l0', 'basemodel.word_level.lstm_layer.lstm.bias_hh_l0', 'basemodel.word_level.lstm_layer.lstm.weight_ih_l0_reverse', 'basemodel.word_level.lstm_layer.lstm.weight_hh_l0_reverse', 'basemodel.word_level.lstm_layer.lstm.bias_ih_l0_reverse', 'basemodel.word_level.lstm_layer.lstm.bias_hh_l0_reverse', 'basemodel.word_level.att_layer.linear_first.weight', 'basemodel.word_level.att_layer.linear_second.weight', 'basemodel.sen_level.lstm_layer.lstm.weight_ih_l0', 'basemodel.sen_level.lstm_layer.lstm.weight_hh_l0', 'basemodel.sen_level.lstm_layer.lstm.bias_ih_l0', 'basemodel.sen_level.lstm_layer.lstm.bias_hh_l0', 'basemodel.sen_level.lstm_layer.lstm.weight_ih_l0_reverse', 'basemodel.sen_level.lstm_layer.lstm.weight_hh_l0_reverse', 'basemodel.sen_level.lstm_layer.lstm.bias_ih_l0_reverse', 'basemodel.sen_level.lstm_layer.lstm.bias_hh_l0_reverse', 'basemodel.sen_level.att_layer.linear_first.weight', 'basemodel.sen_level.att_layer.linear_second.weight'])\n",
      "inverted_punctuations {'↑', ']', \"'\", '#', '\"', '\\xad', '°', '§', '–', ':', '$', ',', '”', '&', '[', '/', '(', '’', '>', '-', '″', '@', '%', '*', '~', '®', ';', '+', '…', ')', '.', '!', '™'}\n",
      "len_inverted 24230\n"
     ]
    }
   ],
   "source": [
    "product_matching = ProductMatching(products)"
   ]
  },
  {
   "cell_type": "code",
   "execution_count": 24,
   "metadata": {},
   "outputs": [
    {
     "name": "stdout",
     "output_type": "stream",
     "text": [
      "{\"hello\": \"world\"}\n"
     ]
    }
   ],
   "source": [
    "# GET /json\n",
    "print(json.dumps({'hello':'world'}))"
   ]
  },
  {
   "cell_type": "code",
   "execution_count": null,
   "metadata": {},
   "outputs": [],
   "source": [
    "# ResponseInfo GET /json\n",
    "print(json.dumps({\"headers\" : { \"Content-Type\" : 'application/json','Access-Control-Allow-Origin':'*'}, \"status\" : 200}))"
   ]
  },
  {
   "cell_type": "code",
   "execution_count": 25,
   "metadata": {
    "collapsed": true
   },
   "outputs": [
    {
     "ename": "NameError",
     "evalue": "name 'REQUEST' is not defined",
     "output_type": "error",
     "traceback": [
      "\u001b[0;31m---------------------------------------------------------------------------\u001b[0m",
      "\u001b[0;31mNameError\u001b[0m                                 Traceback (most recent call last)",
      "\u001b[0;32m<ipython-input-25-28bcd4134cff>\u001b[0m in \u001b[0;36m<module>\u001b[0;34m\u001b[0m\n\u001b[1;32m      1\u001b[0m \u001b[0;31m# POST /dl_results\u001b[0m\u001b[0;34m\u001b[0m\u001b[0;34m\u001b[0m\u001b[0;34m\u001b[0m\u001b[0m\n\u001b[0;32m----> 2\u001b[0;31m \u001b[0mcore_products\u001b[0m \u001b[0;34m=\u001b[0m \u001b[0mjson\u001b[0m\u001b[0;34m.\u001b[0m\u001b[0mloads\u001b[0m\u001b[0;34m(\u001b[0m\u001b[0mREQUEST\u001b[0m\u001b[0;34m)\u001b[0m\u001b[0;34m\u001b[0m\u001b[0;34m\u001b[0m\u001b[0m\n\u001b[0m\u001b[1;32m      3\u001b[0m \u001b[0;31m# core_products='Laptop HP 14-cK0068TU'\u001b[0m\u001b[0;34m\u001b[0m\u001b[0;34m\u001b[0m\u001b[0;34m\u001b[0m\u001b[0m\n\u001b[1;32m      4\u001b[0m \u001b[0mlogging\u001b[0m\u001b[0;34m.\u001b[0m\u001b[0minfo\u001b[0m\u001b[0;34m(\u001b[0m\u001b[0mcore_products\u001b[0m\u001b[0;34m)\u001b[0m\u001b[0;34m\u001b[0m\u001b[0;34m\u001b[0m\u001b[0m\n\u001b[1;32m      5\u001b[0m \u001b[0mdl_result\u001b[0m \u001b[0;34m=\u001b[0m \u001b[0mproduct_matching\u001b[0m\u001b[0;34m.\u001b[0m\u001b[0mget_top_10\u001b[0m\u001b[0;34m(\u001b[0m\u001b[0mcore_products\u001b[0m\u001b[0;34m,\u001b[0m \u001b[0;34m'AI'\u001b[0m\u001b[0;34m)\u001b[0m\u001b[0;34m\u001b[0m\u001b[0;34m\u001b[0m\u001b[0m\n",
      "\u001b[0;31mNameError\u001b[0m: name 'REQUEST' is not defined"
     ]
    }
   ],
   "source": [
    "# POST /dl_results\n",
    "core_products = json.loads(REQUEST)\n",
    "# core_products='Laptop HP 14-cK0068TU'\n",
    "logging.info(core_products)\n",
    "dl_result = product_matching.get_top_10(core_products, 'AI')\n",
    "dl_result = list(dl_result['pv_title'])\n",
    "result = {'result':dl_result}\n",
    "print(json.dumps(result, ensure_ascii=False))"
   ]
  },
  {
   "cell_type": "code",
   "execution_count": null,
   "metadata": {},
   "outputs": [],
   "source": [
    "# ResponseInfo POST /dl_results\n",
    "print(json.dumps({\"headers\" : { \"Content-Type\" : 'application/json','Access-Control-Allow-Origin':'*'}, \"status\" : 200}))"
   ]
  },
  {
   "cell_type": "code",
   "execution_count": null,
   "metadata": {
    "collapsed": true
   },
   "outputs": [],
   "source": [
    "#GET /lcs_results\n",
    "core_products='Laptop HP 14-cK0068TU'\n",
    "lcs_result = product_matching.get_top_10(core_products, 'LCS')\n",
    "lcs_result = list(lcs_result['pv_title'])\n",
    "result1={'result':lcs_result}\n",
    "print(json.dumps(result1, ensure_ascii=False))"
   ]
  },
  {
   "cell_type": "code",
   "execution_count": null,
   "metadata": {
    "collapsed": true
   },
   "outputs": [],
   "source": [
    "# ResponseInfo GET /lcs_results\n",
    "print(json.dumps({\"headers\" : { \"Content-Type\" : 'application/json','Access-Control-Allow-Origin':'*'}, \"status\" : 200}))"
   ]
  },
  {
   "cell_type": "code",
   "execution_count": null,
   "metadata": {},
   "outputs": [],
   "source": []
  }
 ],
 "metadata": {
  "kernelspec": {
   "display_name": "Python 3",
   "language": "python",
   "name": "python3"
  },
  "language_info": {
   "codemirror_mode": {
    "name": "ipython",
    "version": 3
   },
   "file_extension": ".py",
   "mimetype": "text/x-python",
   "name": "python",
   "nbconvert_exporter": "python",
   "pygments_lexer": "ipython3",
   "version": "3.6.8"
  }
 },
 "nbformat": 4,
 "nbformat_minor": 2
}
